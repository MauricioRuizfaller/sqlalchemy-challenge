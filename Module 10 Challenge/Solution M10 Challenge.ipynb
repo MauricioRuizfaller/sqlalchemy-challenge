{
 "cells": [
  {
   "cell_type": "code",
   "execution_count": null,
   "id": "a31abfbe",
   "metadata": {},
   "outputs": [],
   "source": [
    "import pandas as pd\n",
    "from sqlalchemy import create_engine\n",
    "from sqlalchemy.ext.automap import automap_base\n",
    "from sqlalchemy.orm import Session\n",
    "from sqlalchemy import create_engine, inspect, func, Date\n",
    "import datetime as dt"
   ]
  },
  {
   "cell_type": "markdown",
   "id": "062ee7f7",
   "metadata": {},
   "source": [
    "# Part 1: Analyze and Explore the Climate Data\n",
    "\n",
    "Use the SQLAlchemy create_engine() function to connect to your SQLite database."
   ]
  },
  {
   "cell_type": "code",
   "execution_count": null,
   "id": "2372ce24",
   "metadata": {},
   "outputs": [],
   "source": [
    "engine = create_engine('sqlite:///Resources/hawaii.sqlite')"
   ]
  },
  {
   "cell_type": "markdown",
   "id": "9674ee61",
   "metadata": {},
   "source": [
    "#### Use the SQLAlchemy automap_base() function to reflect your tables into classes, and then save references to the classes named station and measurement."
   ]
  },
  {
   "cell_type": "code",
   "execution_count": null,
   "id": "e0d148f3",
   "metadata": {},
   "outputs": [],
   "source": [
    "# reflect an existing database into a new model\n",
    "Base = automap_base()\n",
    "# reflect the tables\n",
    "Base.prepare(autoload_with=engine)"
   ]
  },
  {
   "cell_type": "code",
   "execution_count": null,
   "id": "9fa3df6c",
   "metadata": {},
   "outputs": [],
   "source": [
    "# View all of the classes that automap found\n",
    "Base.classes.keys()"
   ]
  },
  {
   "cell_type": "code",
   "execution_count": null,
   "id": "eee8ba78",
   "metadata": {},
   "outputs": [],
   "source": [
    "# Save references to the classes\n",
    "Station = Base.classes.station\n",
    "Measurement = Base.classes.measurement"
   ]
  },
  {
   "cell_type": "markdown",
   "id": "8f12a734",
   "metadata": {},
   "source": [
    "#### Link Python to the database by creating a SQLAlchemy session."
   ]
  },
  {
   "cell_type": "code",
   "execution_count": null,
   "id": "2c333175",
   "metadata": {},
   "outputs": [],
   "source": [
    "# Create a session to interact with the database\n",
    "session = Session(engine)"
   ]
  },
  {
   "cell_type": "markdown",
   "id": "fd4257d5",
   "metadata": {},
   "source": [
    "#### Perform a precipitation analysis and then a station analysis by completing the steps in the following two subsections.\n",
    "1. Find the most recent date in the dataset."
   ]
  },
  {
   "cell_type": "code",
   "execution_count": null,
   "id": "3ce2f8e0",
   "metadata": {},
   "outputs": [],
   "source": [
    "most_recent_date = session.query(func.max(Measurement.date)).scalar()\n",
    "most_recent_date"
   ]
  },
  {
   "cell_type": "markdown",
   "id": "eba2d14d",
   "metadata": {},
   "source": [
    "2. Using that date, get the previous 12 months of precipitation data by querying the previous 12 months of data."
   ]
  },
  {
   "cell_type": "code",
   "execution_count": null,
   "id": "a6a4504e",
   "metadata": {},
   "outputs": [],
   "source": [
    "one_year_ago = dt.date.fromisoformat(most_recent_date) - dt.timedelta(days=365)\n",
    "one_year_ago"
   ]
  },
  {
   "cell_type": "code",
   "execution_count": null,
   "id": "9812c37c",
   "metadata": {
    "collapsed": true
   },
   "outputs": [],
   "source": [
    "results = session.query(Measurement) \\\n",
    "    .filter(Measurement.date > one_year_ago) \\\n",
    "    .all()\n",
    "results"
   ]
  },
  {
   "cell_type": "markdown",
   "id": "a9192215",
   "metadata": {},
   "source": [
    "3. Select only the \"date\" and \"prcp\" values."
   ]
  },
  {
   "cell_type": "code",
   "execution_count": null,
   "id": "52cf3e0b",
   "metadata": {},
   "outputs": [],
   "source": [
    "results = session.query(Measurement.date, Measurement.prcp) \\\n",
    "    .filter(Measurement.date > one_year_ago) \\\n",
    "    .all()\n",
    "results"
   ]
  },
  {
   "cell_type": "markdown",
   "id": "9640f04a",
   "metadata": {},
   "source": [
    "4. Load the query results into a Pandas DataFrame. Explicitly set the column names."
   ]
  },
  {
   "cell_type": "code",
   "execution_count": null,
   "id": "9b318edc",
   "metadata": {
    "scrolled": true
   },
   "outputs": [],
   "source": [
    "df = pd.DataFrame(results)\n",
    "df"
   ]
  },
  {
   "cell_type": "markdown",
   "id": "dab0c442",
   "metadata": {},
   "source": [
    "5. Sort the DataFrame values by \"date\"."
   ]
  },
  {
   "cell_type": "code",
   "execution_count": null,
   "id": "83c4ae64",
   "metadata": {},
   "outputs": [],
   "source": [
    "date_df = df.sort_values('date')\n",
    "date_df"
   ]
  },
  {
   "cell_type": "markdown",
   "id": "aacbbd84",
   "metadata": {},
   "source": [
    "6. Plot the results by using the DataFrame plot method"
   ]
  },
  {
   "cell_type": "code",
   "execution_count": null,
   "id": "38621eb8",
   "metadata": {},
   "outputs": [],
   "source": [
    "import matplotlib.pyplot as plt\n",
    "\n",
    "# Plot the precipitation data\n",
    "date_df.plot(x='date', y='prcp', figsize=(5, 6))\n",
    "plt.xlabel('Date')\n",
    "plt.ylabel('Precipitation (inches)')\n",
    "plt.title('Precipitation Analysis')\n",
    "plt.legend(loc='upper center')\n",
    "plt.xticks(rotation=45)\n",
    "plt.tight_layout()\n",
    "plt.show()"
   ]
  },
  {
   "cell_type": "code",
   "execution_count": null,
   "id": "a9b1ef7f",
   "metadata": {},
   "outputs": [],
   "source": [
    "# Print summary statistics\n",
    "print(df['prcp'].describe())"
   ]
  },
  {
   "cell_type": "markdown",
   "id": "58bb40b1",
   "metadata": {},
   "source": [
    "## Stational Analysis"
   ]
  },
  {
   "cell_type": "markdown",
   "id": "aa2c34ab",
   "metadata": {},
   "source": [
    "1. Design a query to calculate the total number of stations in the dataset."
   ]
  },
  {
   "cell_type": "code",
   "execution_count": null,
   "id": "06c409ac",
   "metadata": {},
   "outputs": [],
   "source": [
    "station_count = session.query(func.count(Station.station)).scalar()\n",
    "station_count"
   ]
  },
  {
   "cell_type": "markdown",
   "id": "3b691168",
   "metadata": {},
   "source": [
    "2. Design a query to find the most-active stations (that is, the stations that have the most rows). To do so, complete the following steps:\n",
    "\n",
    "- List the stations and observation counts in descending order.\n",
    "\n",
    "- Answer the following question: which station id has the greatest number of observations?\n"
   ]
  },
  {
   "cell_type": "code",
   "execution_count": null,
   "id": "0302f789",
   "metadata": {},
   "outputs": [],
   "source": [
    "station_activity = session.query(Measurement.station, func.count(Measurement.station))\\\n",
    "                          .group_by(Measurement.station)\\\n",
    "                          .order_by(func.count(Measurement.station).desc())\\\n",
    "                          .all()"
   ]
  },
  {
   "cell_type": "code",
   "execution_count": null,
   "id": "a718dcc8",
   "metadata": {},
   "outputs": [],
   "source": [
    "for station, count in station_activity:\n",
    "    print(f\"Station: {station}, Observation Count: {count}\")"
   ]
  },
  {
   "cell_type": "code",
   "execution_count": null,
   "id": "4d5237cd",
   "metadata": {},
   "outputs": [],
   "source": [
    "most_active_station = station_activity[0][0]\n",
    "print(f\"The station with the greatest number of observations is: {most_active_station}\")"
   ]
  },
  {
   "cell_type": "markdown",
   "id": "55ee581b",
   "metadata": {},
   "source": [
    "3. Design a query that calculates the lowest, highest, and average temperatures that filters on the most-active station id found in the previous query."
   ]
  },
  {
   "cell_type": "code",
   "execution_count": null,
   "id": "0f601c49",
   "metadata": {},
   "outputs": [],
   "source": [
    "# Query to calculate temperature statistics for the most active station\n",
    "temperature_stats = session.query(func.min(Measurement.tobs), func.max(Measurement.tobs), func.avg(Measurement.tobs))\\\n",
    "                           .filter(Measurement.station == most_active_station)\\\n",
    "                           .all()\n",
    "\n",
    "# Print the temperature statistics\n",
    "lowest_temp = temperature_stats[0][0]\n",
    "highest_temp = temperature_stats[0][1]\n",
    "avg_temp = temperature_stats[0][2]\n",
    "print(f\"For the most active station ({most_active_station}):\")\n",
    "print(f\"Lowest Temperature: {lowest_temp}\")\n",
    "print(f\"Highest Temperature: {highest_temp}\")\n",
    "print(f\"Average Temperature: {avg_temp}\")\n"
   ]
  },
  {
   "cell_type": "markdown",
   "id": "5139e6ad",
   "metadata": {},
   "source": [
    "4. Design a query to get the previous 12 months of temperature observation (TOBS) data. To do so, complete the following steps:\n",
    "\n",
    "- Filter by the station that has the greatest number of observations.\n",
    "\n",
    "- Query the previous 12 months of TOBS data for that station.\n",
    "\n",
    "- Plot the results as a histogram with bins=12."
   ]
  },
  {
   "cell_type": "code",
   "execution_count": null,
   "id": "7e67431a",
   "metadata": {},
   "outputs": [],
   "source": [
    "# Query to get the previous 12 months of TOBS data for the most active station\n",
    "tobs_data = session.query(Measurement.tobs)\\\n",
    "                  .filter(Measurement.station == most_active_station)\\\n",
    "                  .filter(Measurement.date >= one_year_ago)\\\n",
    "                  .filter(Measurement.date <= most_recent_date)\\\n",
    "                  .all()\n",
    "\n",
    "# Convert the query results to a DataFrame\n",
    "tobs_df = pd.DataFrame(tobs_data, columns=['TOBS'])\n",
    "\n",
    "# Plot the results as a histogram\n",
    "tobs_df.plot.hist(bins=12, legend=False)\n",
    "plt.xlabel('Temperature (°F)')\n",
    "plt.ylabel('Frequency')\n",
    "plt.title('Temperature Observation (TOBS)')\n",
    "plt.show()\n"
   ]
  },
  {
   "cell_type": "markdown",
   "id": "dfbdba89",
   "metadata": {},
   "source": [
    "5. Close your session."
   ]
  },
  {
   "cell_type": "code",
   "execution_count": null,
   "id": "5705897d",
   "metadata": {},
   "outputs": [],
   "source": [
    "session.close()"
   ]
  },
  {
   "cell_type": "markdown",
   "id": "a523cbc4",
   "metadata": {},
   "source": [
    "# Part 2: Design Your Climate App\n",
    "Now that you’ve completed your initial analysis, you’ll design a Flask API based on the queries that you just developed. To do so, use Flask to create your routes as follows:"
   ]
  },
  {
   "cell_type": "markdown",
   "id": "4fde49bf",
   "metadata": {},
   "source": [
    "1. /\n",
    "\n",
    "- Start at the homepage.\n",
    "\n",
    "- List all the available routes."
   ]
  },
  {
   "cell_type": "code",
   "execution_count": null,
   "id": "e8cb6d62",
   "metadata": {},
   "outputs": [],
   "source": [
    "from flask import Flask\n",
    "\n",
    "app = Flask(__name__)\n",
    "\n",
    "@app.route(\"/\")\n",
    "def home():\n",
    "    return (\n",
    "        \"Welcome to the Climate App API!<br/>\"\n",
    "        \"Available Routes:<br/>\"\n",
    "        \"/api/v1.0/precipitation<br/>\"\n",
    "        \"/api/v1.0/stations<br/>\"\n",
    "        \"/api/v1.0/tobs<br/>\"\n",
    "        \"/api/v1.0/&lt;start&gt;<br/>\"\n",
    "        \"/api/v1.0/&lt;start&gt;/&lt;end&gt;<br/>\"\n",
    "    )\n",
    "\n",
    "if __name__ == \"__main__\":\n",
    "    app.run(debug=True)\n"
   ]
  },
  {
   "cell_type": "markdown",
   "id": "6062f297",
   "metadata": {},
   "source": [
    "2. /api/v1.0/precipitation\n",
    "\n",
    "- Convert the query results from your precipitation analysis (i.e. retrieve only the last 12 months of data) to a dictionary using date as the key and prcp as the value.\n",
    "\n",
    "- Return the JSON representation of your dictionary."
   ]
  },
  {
   "cell_type": "code",
   "execution_count": null,
   "id": "4b1b8781",
   "metadata": {},
   "outputs": [],
   "source": [
    "@app.route(\"/api/v1.0/precipitation\")\n",
    "def precipitation():\n",
    "    session = Session(engine)\n",
    "    results = session.query(Measurement.date, Measurement.prcp).filter(Measurement.date >= one_year_ago).all()\n",
    "\n",
    "    session.close()\n"
   ]
  },
  {
   "cell_type": "markdown",
   "id": "96b7a5f1",
   "metadata": {},
   "source": [
    "3. /api/v1.0/stations\n",
    "\n",
    "- Return a JSON list of stations from the dataset."
   ]
  },
  {
   "cell_type": "code",
   "execution_count": null,
   "id": "c156fe59",
   "metadata": {},
   "outputs": [],
   "source": [
    "def stations():\n",
    "    session = Session(engine)\n",
    "\n",
    "    results = session.query(Station.station).all()\n",
    "\n",
    "    session.close()\n",
    "\n",
    "    station_list = [station[0] for station in results]\n",
    "\n",
    "    return jsonify(station_list)\n",
    "\n",
    "if __name__ == \"__main__\":\n",
    "    app.run(debug=True)\n"
   ]
  },
  {
   "cell_type": "markdown",
   "id": "75c298be",
   "metadata": {},
   "source": [
    "4. /api/v1.0/tobs\n",
    "\n",
    "- Query the dates and temperature observations of the most-active station for the previous year of data.\n",
    "\n",
    "- Return a JSON list of temperature observations for the previous year."
   ]
  },
  {
   "cell_type": "code",
   "execution_count": null,
   "id": "374efbac",
   "metadata": {},
   "outputs": [],
   "source": []
  },
  {
   "cell_type": "markdown",
   "id": "475f627a",
   "metadata": {},
   "source": [
    "5. /api/v1.0/<start> and /api/v1.0/<start>/<end>\n",
    "\n",
    "Return a JSON list of the minimum temperature, the average temperature, and the maximum temperature for a specified start or start-end range.\n",
    "\n",
    "For a specified start, calculate TMIN, TAVG, and TMAX for all the dates greater than or equal to the start date.\n",
    "\n",
    "For a specified start date and end date, calculate TMIN, TAVG, and TMAX for the dates from the start date to the end date, inclusive."
   ]
  },
  {
   "cell_type": "code",
   "execution_count": null,
   "id": "17ea0f54",
   "metadata": {},
   "outputs": [],
   "source": []
  },
  {
   "cell_type": "markdown",
   "id": "5a13d8d3",
   "metadata": {},
   "source": []
  },
  {
   "cell_type": "code",
   "execution_count": null,
   "id": "e43187cd",
   "metadata": {},
   "outputs": [],
   "source": []
  },
  {
   "cell_type": "markdown",
   "id": "89b2b284",
   "metadata": {},
   "source": []
  },
  {
   "cell_type": "code",
   "execution_count": null,
   "id": "1fb985f0",
   "metadata": {},
   "outputs": [],
   "source": []
  }
 ],
 "metadata": {
  "kernelspec": {
   "display_name": "Python 3 (ipykernel)",
   "language": "python",
   "name": "python3"
  },
  "language_info": {
   "codemirror_mode": {
    "name": "ipython",
    "version": 3
   },
   "file_extension": ".py",
   "mimetype": "text/x-python",
   "name": "python",
   "nbconvert_exporter": "python",
   "pygments_lexer": "ipython3",
   "version": "3.9.13"
  }
 },
 "nbformat": 4,
 "nbformat_minor": 5
}
